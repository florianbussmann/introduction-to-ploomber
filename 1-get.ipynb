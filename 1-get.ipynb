{
 "cells": [
  {
   "cell_type": "code",
   "execution_count": 1,
   "id": "1ec37c4b",
   "metadata": {
    "execution": {
     "iopub.execute_input": "2022-03-17T17:17:33.917254Z",
     "iopub.status.busy": "2022-03-17T17:17:33.916701Z",
     "iopub.status.idle": "2022-03-17T17:17:33.928007Z",
     "shell.execute_reply": "2022-03-17T17:17:33.927260Z"
    },
    "papermill": {
     "duration": 0.019117,
     "end_time": "2022-03-17T17:17:33.930294",
     "exception": false,
     "start_time": "2022-03-17T17:17:33.911177",
     "status": "completed"
    },
    "tags": [
     "parameters"
    ]
   },
   "outputs": [],
   "source": [
    "upstream = None\n",
    "product = None"
   ]
  },
  {
   "cell_type": "code",
   "execution_count": 2,
   "id": "67f89047",
   "metadata": {
    "execution": {
     "iopub.execute_input": "2022-03-17T17:17:33.940089Z",
     "iopub.status.busy": "2022-03-17T17:17:33.939566Z",
     "iopub.status.idle": "2022-03-17T17:17:33.943050Z",
     "shell.execute_reply": "2022-03-17T17:17:33.942596Z"
    },
    "papermill": {
     "duration": 0.010019,
     "end_time": "2022-03-17T17:17:33.944595",
     "exception": false,
     "start_time": "2022-03-17T17:17:33.934576",
     "status": "completed"
    },
    "tags": [
     "injected-parameters"
    ]
   },
   "outputs": [],
   "source": [
    "# Parameters\n",
    "product = {\n",
    "    \"nb\": \"/home/runner/work/introduction-to-ploomber/introduction-to-ploomber/output/1-get.ipynb\",\n",
    "    \"data\": \"/home/runner/work/introduction-to-ploomber/introduction-to-ploomber/output/cereal.csv\",\n",
    "}\n"
   ]
  },
  {
   "cell_type": "code",
   "execution_count": 3,
   "id": "52632947",
   "metadata": {
    "execution": {
     "iopub.execute_input": "2022-03-17T17:17:33.953485Z",
     "iopub.status.busy": "2022-03-17T17:17:33.952758Z",
     "iopub.status.idle": "2022-03-17T17:17:34.193573Z",
     "shell.execute_reply": "2022-03-17T17:17:34.192846Z"
    },
    "papermill": {
     "duration": 0.247669,
     "end_time": "2022-03-17T17:17:34.195808",
     "exception": false,
     "start_time": "2022-03-17T17:17:33.948139",
     "status": "completed"
    },
    "tags": []
   },
   "outputs": [],
   "source": [
    "import requests\n",
    "response = requests.get(\"https://docs.dagster.io/assets/cereal.csv\")\n",
    "with open(product['data'], 'wb') as out_file:\n",
    "    out_file.write(response.content)"
   ]
  }
 ],
 "metadata": {
  "jupytext": {
   "cell_metadata_filter": "tags,-all",
   "main_language": "python",
   "notebook_metadata_filter": "-all",
   "text_representation": {
    "extension": ".py",
    "format_name": "percent"
   }
  },
  "kernelspec": {
   "display_name": "Python 3 (ipykernel)",
   "language": "python",
   "name": "python3"
  },
  "language_info": {
   "codemirror_mode": {
    "name": "ipython",
    "version": 3
   },
   "file_extension": ".py",
   "mimetype": "text/x-python",
   "name": "python",
   "nbconvert_exporter": "python",
   "pygments_lexer": "ipython3",
   "version": "3.9.10"
  },
  "papermill": {
   "duration": 1.389266,
   "end_time": "2022-03-17T17:17:34.419399",
   "exception": null,
   "input_path": "/tmp/tmpojr1e_rh.ipynb",
   "output_path": "/home/runner/work/introduction-to-ploomber/introduction-to-ploomber/output/1-get.ipynb",
   "parameters": {
    "product": {
     "data": "/home/runner/work/introduction-to-ploomber/introduction-to-ploomber/output/cereal.csv",
     "nb": "/home/runner/work/introduction-to-ploomber/introduction-to-ploomber/output/1-get.ipynb"
    }
   },
   "start_time": "2022-03-17T17:17:33.030133"
  }
 },
 "nbformat": 4,
 "nbformat_minor": 5
}